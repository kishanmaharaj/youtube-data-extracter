{
 "cells": [
  {
   "cell_type": "markdown",
   "metadata": {},
   "source": [
    "## Importing Libraries "
   ]
  },
  {
   "cell_type": "code",
   "execution_count": 1,
   "metadata": {},
   "outputs": [],
   "source": [
    "from bs4 import BeautifulSoup\n",
    "import csv\n",
    "from selenium import webdriver\n",
    "from selenium.webdriver.support.ui import WebDriverWait\n",
    "from selenium.webdriver.common.by import By\n",
    "from selenium.webdriver.support import expected_conditions as EC\n",
    "from tqdm import tqdm\n",
    "from webdriver_manager.chrome import ChromeDriverManager"
   ]
  },
  {
   "cell_type": "markdown",
   "metadata": {},
   "source": [
    "## Channel URL "
   ]
  },
  {
   "cell_type": "code",
   "execution_count": 2,
   "metadata": {},
   "outputs": [],
   "source": [
    "url = \"https://www.youtube.com/channel/UCAuUUnT6oDeKwE6v1NGQxug\""
   ]
  },
  {
   "cell_type": "markdown",
   "metadata": {},
   "source": [
    "## Scraping the Channel "
   ]
  },
  {
   "cell_type": "code",
   "execution_count": 3,
   "metadata": {},
   "outputs": [
    {
     "name": "stderr",
     "output_type": "stream",
     "text": [
      "[WDM] - ====== WebDriver manager ======\n",
      "[WDM] - Current google-chrome version is 88.0.4324\n",
      "[WDM] - Get LATEST driver version for 88.0.4324\n"
     ]
    },
    {
     "name": "stdout",
     "output_type": "stream",
     "text": [
      "\n",
      "\n"
     ]
    },
    {
     "name": "stderr",
     "output_type": "stream",
     "text": [
      "[WDM] - Driver [/home/kishan/.wdm/drivers/chromedriver/linux64/88.0.4324.96/chromedriver] found in cache\n"
     ]
    },
    {
     "name": "stdout",
     "output_type": "stream",
     "text": [
      "Requesting URL: https://www.youtube.com/channel/UCAuUUnT6oDeKwE6v1NGQxug/videos?view=0&sort=p&flow=grid\n",
      "Webpage found ...\n"
     ]
    },
    {
     "name": "stderr",
     "output_type": "stream",
     "text": [
      "Scrolling:  36%|███▌      | 36/100 [00:00<00:00, 357.08it/s]"
     ]
    },
    {
     "name": "stdout",
     "output_type": "stream",
     "text": [
      "Scrolling document upto bottom ...\n",
      "Creating CSV DATA\n"
     ]
    },
    {
     "name": "stderr",
     "output_type": "stream",
     "text": [
      "Scrolling: 100%|██████████| 100/100 [00:00<00:00, 355.64it/s]\n"
     ]
    },
    {
     "name": "stdout",
     "output_type": "stream",
     "text": [
      "Closing Chrome ...\n"
     ]
    }
   ],
   "source": [
    "driver = webdriver.Chrome(ChromeDriverManager().install()) \n",
    "\n",
    "#Channel URL for videos sorted by popularity \n",
    "channel_url = url + \"/videos?view=0&sort=p&flow=grid\"\n",
    "\n",
    "print (\"Requesting URL: \" + channel_url)\n",
    "driver.get(channel_url) \n",
    "print (\"Channel found ...\")\n",
    "\n",
    "element_xpath = '//*[@id=\"items\"]' \n",
    "element = WebDriverWait(driver, 15).until(EC.visibility_of_element_located((By.XPATH, element_xpath)))\n",
    "print (\"Scrolling document upto bottom ...\")\n",
    "\n",
    "for i in tqdm(range(100), desc=\"Scrolling\"):\n",
    "    driver.execute_script(\"window.scrollTo(0, document.body.scrollHeight);\")\n",
    "body = driver.find_element_by_tag_name(\"body\").get_attribute(\"innerHTML\")\n",
    "\n",
    "print(\"Closing Chrome ...\") \n",
    "driver.quit()    "
   ]
  },
  {
   "cell_type": "markdown",
   "metadata": {},
   "source": [
    "## Extracting the required data  "
   ]
  },
  {
   "cell_type": "code",
   "execution_count": 4,
   "metadata": {},
   "outputs": [],
   "source": [
    "soupBody = BeautifulSoup(body,features = \"html.parser\")\n",
    "channel_name = soupBody.findAll(\"yt-formatted-string\", {\"class\" : \"style-scope ytd-channel-name\"})[0].text \n",
    "subscriber_count = soupBody.findAll(\"yt-formatted-string\", {\"id\" : \"subscriber-count\"})[0].text"
   ]
  },
  {
   "cell_type": "code",
   "execution_count": 5,
   "metadata": {},
   "outputs": [],
   "source": [
    "views_time = soupBody.findAll(\"span\", {\"class\": \"style-scope ytd-grid-video-renderer\"})\n",
    "video_info = soupBody.findAll(\"h3\", {\"class\": \"style-scope ytd-grid-video-renderer\"})\n",
    "upload_time = views_time[0 : len(views_time) : 2]\n",
    "views = views_time[1 : len(views_time) : 2]"
   ]
  },
  {
   "cell_type": "markdown",
   "metadata": {},
   "source": [
    "## Creating the CSV file  "
   ]
  },
  {
   "cell_type": "code",
   "execution_count": 6,
   "metadata": {},
   "outputs": [],
   "source": [
    "filename = \"results/\"+channel_name+\".csv\""
   ]
  },
  {
   "cell_type": "code",
   "execution_count": 7,
   "metadata": {},
   "outputs": [],
   "source": [
    "header = [\"video name\",\"upload time\",\"views\"]"
   ]
  },
  {
   "cell_type": "code",
   "execution_count": 8,
   "metadata": {
    "scrolled": true
   },
   "outputs": [
    {
     "name": "stderr",
     "output_type": "stream",
     "text": [
      "CSV : 100%|██████████| 30/30 [00:00<00:00, 36802.90it/s]"
     ]
    },
    {
     "name": "stdout",
     "output_type": "stream",
     "text": [
      "Creating CSV DATA\n"
     ]
    },
    {
     "name": "stderr",
     "output_type": "stream",
     "text": [
      "\n"
     ]
    }
   ],
   "source": [
    "rows = []\n",
    "print(\"Creating CSV DATA\")\n",
    "for i in tqdm(range(len(video_info)), desc = \"CSV \"):\n",
    "    x = [video_info[i].text, views[i].text, upload_time[i].text]\n",
    "    rows.append(x)"
   ]
  },
  {
   "cell_type": "code",
   "execution_count": 9,
   "metadata": {},
   "outputs": [],
   "source": [
    "with open(filename, 'w') as csvfile:  \n",
    "    csvwriter = csv.writer(csvfile)  \n",
    "    csvwriter.writerow(header)  \n",
    "    csvwriter.writerows(rows) "
   ]
  }
 ],
 "metadata": {
  "kernelspec": {
   "display_name": "web_scrap",
   "language": "python",
   "name": "web_scrap"
  },
  "language_info": {
   "codemirror_mode": {
    "name": "ipython",
    "version": 3
   },
   "file_extension": ".py",
   "mimetype": "text/x-python",
   "name": "python",
   "nbconvert_exporter": "python",
   "pygments_lexer": "ipython3",
   "version": "3.8.10"
  }
 },
 "nbformat": 4,
 "nbformat_minor": 4
}
